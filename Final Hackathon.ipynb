{
 "cells": [
  {
   "cell_type": "code",
   "execution_count": 111,
   "id": "94fd2702",
   "metadata": {},
   "outputs": [],
   "source": [
    "import joblib\n",
    "import pandas as pd\n",
    "import nltk\n",
    "from nltk.corpus import stopwords\n",
    "from sklearn.feature_extraction.text import CountVectorizer\n",
    "from collections import Counter"
   ]
  },
  {
   "cell_type": "code",
   "execution_count": 74,
   "id": "31282ea9",
   "metadata": {},
   "outputs": [],
   "source": [
    "strings_list = [\n",
    "    \"@KeepinUpWKris I am so jealous, hope you had a great time in vegas! how did you like the ACM's?! LOVE YOUR SHOW!! \",\n",
    "    \"@LovesBrooklyn2 he has that effect on everyone\",\n",
    "    \"@westy154 Me too   I don't do suits.  I look like I'm in fancy dress.  Especially with shoulder pads.\",\n",
    "    \"dang! i'm lazy  i've begun three short stories in the last three weeks... and never finished anything. will. have. more. focus.\",\n",
    "    \"@yayfuckbuddies haha I would but you won't\"\n",
    "]\n",
    "\n",
    "# Create a DataFrame with one column named 'Text'\n",
    "data = pd.DataFrame({'TweetText': strings_list})"
   ]
  },
  {
   "cell_type": "code",
   "execution_count": 75,
   "id": "45f5e94b",
   "metadata": {},
   "outputs": [
    {
     "name": "stderr",
     "output_type": "stream",
     "text": [
      "C:\\Users\\lohit.ashwa\\AppData\\Local\\Temp\\ipykernel_3060\\2909059753.py:8: FutureWarning: The default value of regex will change from True to False in a future version.\n",
      "  data['Clean_TweetText'] = data['Clean_TweetText'].str.replace(r\"http\\S+\", \"\")\n",
      "C:\\Users\\lohit.ashwa\\AppData\\Local\\Temp\\ipykernel_3060\\2909059753.py:10: FutureWarning: The default value of regex will change from True to False in a future version.\n",
      "  data['Clean_TweetText'] = data['Clean_TweetText'].str.replace(\"[^a-zA-Z]\", \" \")\n"
     ]
    },
    {
     "data": {
      "text/html": [
       "<div>\n",
       "<style scoped>\n",
       "    .dataframe tbody tr th:only-of-type {\n",
       "        vertical-align: middle;\n",
       "    }\n",
       "\n",
       "    .dataframe tbody tr th {\n",
       "        vertical-align: top;\n",
       "    }\n",
       "\n",
       "    .dataframe thead th {\n",
       "        text-align: right;\n",
       "    }\n",
       "</style>\n",
       "<table border=\"1\" class=\"dataframe\">\n",
       "  <thead>\n",
       "    <tr style=\"text-align: right;\">\n",
       "      <th></th>\n",
       "      <th>TweetText</th>\n",
       "      <th>Clean_TweetText</th>\n",
       "    </tr>\n",
       "  </thead>\n",
       "  <tbody>\n",
       "    <tr>\n",
       "      <th>0</th>\n",
       "      <td>@KeepinUpWKris I am so jealous, hope you had a...</td>\n",
       "      <td>keepinupwkris jealous hope great time vegas li...</td>\n",
       "    </tr>\n",
       "    <tr>\n",
       "      <th>1</th>\n",
       "      <td>@LovesBrooklyn2 he has that effect on everyone</td>\n",
       "      <td>lovesbrooklyn effect everyone</td>\n",
       "    </tr>\n",
       "    <tr>\n",
       "      <th>2</th>\n",
       "      <td>@westy154 Me too   I don't do suits.  I look l...</td>\n",
       "      <td>westy suits look like fancy dress especially s...</td>\n",
       "    </tr>\n",
       "    <tr>\n",
       "      <th>3</th>\n",
       "      <td>dang! i'm lazy  i've begun three short stories...</td>\n",
       "      <td>dang lazy begun three short stories last three...</td>\n",
       "    </tr>\n",
       "    <tr>\n",
       "      <th>4</th>\n",
       "      <td>@yayfuckbuddies haha I would but you won't</td>\n",
       "      <td>yayfuckbuddies haha would</td>\n",
       "    </tr>\n",
       "  </tbody>\n",
       "</table>\n",
       "</div>"
      ],
      "text/plain": [
       "                                           TweetText  \\\n",
       "0  @KeepinUpWKris I am so jealous, hope you had a...   \n",
       "1     @LovesBrooklyn2 he has that effect on everyone   \n",
       "2  @westy154 Me too   I don't do suits.  I look l...   \n",
       "3  dang! i'm lazy  i've begun three short stories...   \n",
       "4         @yayfuckbuddies haha I would but you won't   \n",
       "\n",
       "                                     Clean_TweetText  \n",
       "0  keepinupwkris jealous hope great time vegas li...  \n",
       "1                      lovesbrooklyn effect everyone  \n",
       "2  westy suits look like fancy dress especially s...  \n",
       "3  dang lazy begun three short stories last three...  \n",
       "4                          yayfuckbuddies haha would  "
      ]
     },
     "execution_count": 75,
     "metadata": {},
     "output_type": "execute_result"
    }
   ],
   "source": [
    "stopwords=nltk.corpus.stopwords.words('english')\n",
    "def remove_stopwords(text):\n",
    "    clean_text=' '.join([word for word in text.split() if word not in stopwords])\n",
    "    return clean_text\n",
    "# Removing Twitter Handles (@user)\n",
    "data['Clean_TweetText'] = data['TweetText'].str.replace(\"@\", \"\") \n",
    "# Removing links\n",
    "data['Clean_TweetText'] = data['Clean_TweetText'].str.replace(r\"http\\S+\", \"\") \n",
    "# Removing Punctuations, Numbers, and Special Characters\n",
    "data['Clean_TweetText'] = data['Clean_TweetText'].str.replace(\"[^a-zA-Z]\", \" \")\n",
    "data['Clean_TweetText'] = data['Clean_TweetText'].apply(lambda text : remove_stopwords(text.lower()))\n",
    "data['Clean_TweetText'] = data['Clean_TweetText'].apply(lambda x: nltk.word_tokenize(x))\n",
    "# Now let’s stitch these tokens back together\n",
    "data['Clean_TweetText'] = data['Clean_TweetText'].apply(lambda x: ' '.join([w for w in x]))\n",
    "# Removing small words\n",
    "data['Clean_TweetText'] = data['Clean_TweetText'].apply(lambda x: ' '.join([w for w in x.split() if len(w)>3]))\n",
    "data.head()"
   ]
  },
  {
   "cell_type": "code",
   "execution_count": 85,
   "id": "730f6b58",
   "metadata": {},
   "outputs": [
    {
     "data": {
      "text/html": [
       "<div>\n",
       "<style scoped>\n",
       "    .dataframe tbody tr th:only-of-type {\n",
       "        vertical-align: middle;\n",
       "    }\n",
       "\n",
       "    .dataframe tbody tr th {\n",
       "        vertical-align: top;\n",
       "    }\n",
       "\n",
       "    .dataframe thead th {\n",
       "        text-align: right;\n",
       "    }\n",
       "</style>\n",
       "<table border=\"1\" class=\"dataframe\">\n",
       "  <thead>\n",
       "    <tr style=\"text-align: right;\">\n",
       "      <th></th>\n",
       "      <th>TweetText</th>\n",
       "      <th>Clean_TweetText</th>\n",
       "    </tr>\n",
       "  </thead>\n",
       "  <tbody>\n",
       "    <tr>\n",
       "      <th>0</th>\n",
       "      <td>I LOVE @Health4UandPets u guys r the best!!</td>\n",
       "      <td>love health uandpets guys best</td>\n",
       "    </tr>\n",
       "    <tr>\n",
       "      <th>1</th>\n",
       "      <td>im meeting up with one of my besties tonight! ...</td>\n",
       "      <td>meeting besties tonight cant wait girl talk</td>\n",
       "    </tr>\n",
       "    <tr>\n",
       "      <th>2</th>\n",
       "      <td>@DaRealSunisaKim Thanks for the Twitter add, S...</td>\n",
       "      <td>darealsunisakim thanks twitter sunisa meet sho...</td>\n",
       "    </tr>\n",
       "    <tr>\n",
       "      <th>3</th>\n",
       "      <td>Being sick can be really cheap when it hurts t...</td>\n",
       "      <td>sick really cheap hurts much real food plus fr...</td>\n",
       "    </tr>\n",
       "    <tr>\n",
       "      <th>4</th>\n",
       "      <td>@LovesBrooklyn2 he has that effect on everyone</td>\n",
       "      <td>lovesbrooklyn effect everyone</td>\n",
       "    </tr>\n",
       "    <tr>\n",
       "      <th>...</th>\n",
       "      <td>...</td>\n",
       "      <td>...</td>\n",
       "    </tr>\n",
       "    <tr>\n",
       "      <th>19995</th>\n",
       "      <td>stupid dvds stuffing up the good bits in jaws.</td>\n",
       "      <td>stupid dvds stuffing good bits jaws</td>\n",
       "    </tr>\n",
       "    <tr>\n",
       "      <th>19996</th>\n",
       "      <td>@Dandy_Sephy No. Only close friends and family...</td>\n",
       "      <td>dandy sephy close friends family afraid work c...</td>\n",
       "    </tr>\n",
       "    <tr>\n",
       "      <th>19997</th>\n",
       "      <td>CRAP! After looking when I last tweeted... WHY...</td>\n",
       "      <td>crap looking last tweeted early like</td>\n",
       "    </tr>\n",
       "    <tr>\n",
       "      <th>19998</th>\n",
       "      <td>Its Another Rainboot day</td>\n",
       "      <td>another rainboot</td>\n",
       "    </tr>\n",
       "    <tr>\n",
       "      <th>19999</th>\n",
       "      <td>I think there's a problem with the ISP in this...</td>\n",
       "      <td>think problem area something connection slow a...</td>\n",
       "    </tr>\n",
       "  </tbody>\n",
       "</table>\n",
       "<p>20000 rows × 2 columns</p>\n",
       "</div>"
      ],
      "text/plain": [
       "                                               TweetText  \\\n",
       "0           I LOVE @Health4UandPets u guys r the best!!    \n",
       "1      im meeting up with one of my besties tonight! ...   \n",
       "2      @DaRealSunisaKim Thanks for the Twitter add, S...   \n",
       "3      Being sick can be really cheap when it hurts t...   \n",
       "4        @LovesBrooklyn2 he has that effect on everyone    \n",
       "...                                                  ...   \n",
       "19995    stupid dvds stuffing up the good bits in jaws.    \n",
       "19996  @Dandy_Sephy No. Only close friends and family...   \n",
       "19997  CRAP! After looking when I last tweeted... WHY...   \n",
       "19998                          Its Another Rainboot day    \n",
       "19999  I think there's a problem with the ISP in this...   \n",
       "\n",
       "                                         Clean_TweetText  \n",
       "0                         love health uandpets guys best  \n",
       "1            meeting besties tonight cant wait girl talk  \n",
       "2      darealsunisakim thanks twitter sunisa meet sho...  \n",
       "3      sick really cheap hurts much real food plus fr...  \n",
       "4                          lovesbrooklyn effect everyone  \n",
       "...                                                  ...  \n",
       "19995                stupid dvds stuffing good bits jaws  \n",
       "19996  dandy sephy close friends family afraid work c...  \n",
       "19997               crap looking last tweeted early like  \n",
       "19998                                   another rainboot  \n",
       "19999  think problem area something connection slow a...  \n",
       "\n",
       "[20000 rows x 2 columns]"
      ]
     },
     "execution_count": 85,
     "metadata": {},
     "output_type": "execute_result"
    }
   ],
   "source": [
    "data2=pd.read_csv(r'C:\\Users\\lohit.ashwa\\Downloads\\archive\\processed data.csv',usecols=[\"TweetText\",\"Clean_TweetText\"])\n",
    "data2"
   ]
  },
  {
   "cell_type": "code",
   "execution_count": 86,
   "id": "70794f42",
   "metadata": {},
   "outputs": [],
   "source": [
    "data = pd.concat([data,data2],axis = 0)"
   ]
  },
  {
   "cell_type": "code",
   "execution_count": 87,
   "id": "dbebc2ee",
   "metadata": {},
   "outputs": [
    {
     "data": {
      "text/html": [
       "<div>\n",
       "<style scoped>\n",
       "    .dataframe tbody tr th:only-of-type {\n",
       "        vertical-align: middle;\n",
       "    }\n",
       "\n",
       "    .dataframe tbody tr th {\n",
       "        vertical-align: top;\n",
       "    }\n",
       "\n",
       "    .dataframe thead th {\n",
       "        text-align: right;\n",
       "    }\n",
       "</style>\n",
       "<table border=\"1\" class=\"dataframe\">\n",
       "  <thead>\n",
       "    <tr style=\"text-align: right;\">\n",
       "      <th></th>\n",
       "      <th>TweetText</th>\n",
       "      <th>Clean_TweetText</th>\n",
       "    </tr>\n",
       "  </thead>\n",
       "  <tbody>\n",
       "    <tr>\n",
       "      <th>0</th>\n",
       "      <td>@KeepinUpWKris I am so jealous, hope you had a...</td>\n",
       "      <td>keepinupwkris jealous hope great time vegas li...</td>\n",
       "    </tr>\n",
       "    <tr>\n",
       "      <th>1</th>\n",
       "      <td>@LovesBrooklyn2 he has that effect on everyone</td>\n",
       "      <td>lovesbrooklyn effect everyone</td>\n",
       "    </tr>\n",
       "    <tr>\n",
       "      <th>2</th>\n",
       "      <td>@westy154 Me too   I don't do suits.  I look l...</td>\n",
       "      <td>westy suits look like fancy dress especially s...</td>\n",
       "    </tr>\n",
       "    <tr>\n",
       "      <th>3</th>\n",
       "      <td>dang! i'm lazy  i've begun three short stories...</td>\n",
       "      <td>dang lazy begun three short stories last three...</td>\n",
       "    </tr>\n",
       "    <tr>\n",
       "      <th>4</th>\n",
       "      <td>@yayfuckbuddies haha I would but you won't</td>\n",
       "      <td>yayfuckbuddies haha would</td>\n",
       "    </tr>\n",
       "    <tr>\n",
       "      <th>...</th>\n",
       "      <td>...</td>\n",
       "      <td>...</td>\n",
       "    </tr>\n",
       "    <tr>\n",
       "      <th>19995</th>\n",
       "      <td>stupid dvds stuffing up the good bits in jaws.</td>\n",
       "      <td>stupid dvds stuffing good bits jaws</td>\n",
       "    </tr>\n",
       "    <tr>\n",
       "      <th>19996</th>\n",
       "      <td>@Dandy_Sephy No. Only close friends and family...</td>\n",
       "      <td>dandy sephy close friends family afraid work c...</td>\n",
       "    </tr>\n",
       "    <tr>\n",
       "      <th>19997</th>\n",
       "      <td>CRAP! After looking when I last tweeted... WHY...</td>\n",
       "      <td>crap looking last tweeted early like</td>\n",
       "    </tr>\n",
       "    <tr>\n",
       "      <th>19998</th>\n",
       "      <td>Its Another Rainboot day</td>\n",
       "      <td>another rainboot</td>\n",
       "    </tr>\n",
       "    <tr>\n",
       "      <th>19999</th>\n",
       "      <td>I think there's a problem with the ISP in this...</td>\n",
       "      <td>think problem area something connection slow a...</td>\n",
       "    </tr>\n",
       "  </tbody>\n",
       "</table>\n",
       "<p>20005 rows × 2 columns</p>\n",
       "</div>"
      ],
      "text/plain": [
       "                                               TweetText  \\\n",
       "0      @KeepinUpWKris I am so jealous, hope you had a...   \n",
       "1         @LovesBrooklyn2 he has that effect on everyone   \n",
       "2      @westy154 Me too   I don't do suits.  I look l...   \n",
       "3      dang! i'm lazy  i've begun three short stories...   \n",
       "4             @yayfuckbuddies haha I would but you won't   \n",
       "...                                                  ...   \n",
       "19995    stupid dvds stuffing up the good bits in jaws.    \n",
       "19996  @Dandy_Sephy No. Only close friends and family...   \n",
       "19997  CRAP! After looking when I last tweeted... WHY...   \n",
       "19998                          Its Another Rainboot day    \n",
       "19999  I think there's a problem with the ISP in this...   \n",
       "\n",
       "                                         Clean_TweetText  \n",
       "0      keepinupwkris jealous hope great time vegas li...  \n",
       "1                          lovesbrooklyn effect everyone  \n",
       "2      westy suits look like fancy dress especially s...  \n",
       "3      dang lazy begun three short stories last three...  \n",
       "4                              yayfuckbuddies haha would  \n",
       "...                                                  ...  \n",
       "19995                stupid dvds stuffing good bits jaws  \n",
       "19996  dandy sephy close friends family afraid work c...  \n",
       "19997               crap looking last tweeted early like  \n",
       "19998                                   another rainboot  \n",
       "19999  think problem area something connection slow a...  \n",
       "\n",
       "[20005 rows x 2 columns]"
      ]
     },
     "execution_count": 87,
     "metadata": {},
     "output_type": "execute_result"
    }
   ],
   "source": [
    "data"
   ]
  },
  {
   "cell_type": "code",
   "execution_count": 90,
   "id": "d7498ea5",
   "metadata": {},
   "outputs": [],
   "source": [
    "# Option 1: Drop rows with NaN values\n",
    "data = data.dropna(subset=['Clean_TweetText'])\n"
   ]
  },
  {
   "cell_type": "code",
   "execution_count": 91,
   "id": "29ab2622",
   "metadata": {},
   "outputs": [
    {
     "data": {
      "text/plain": [
       "(19955, 24904)"
      ]
     },
     "execution_count": 91,
     "metadata": {},
     "output_type": "execute_result"
    }
   ],
   "source": [
    "count_vectorizer = CountVectorizer(stop_words='english') \n",
    "cv = count_vectorizer.fit_transform(data['Clean_TweetText'])\n",
    "cv.shape"
   ]
  },
  {
   "cell_type": "code",
   "execution_count": 104,
   "id": "151ea6ec",
   "metadata": {},
   "outputs": [
    {
     "data": {
      "text/plain": [
       "<5x24904 sparse matrix of type '<class 'numpy.int64'>'\n",
       "\twith 29 stored elements in Compressed Sparse Row format>"
      ]
     },
     "execution_count": 104,
     "metadata": {},
     "output_type": "execute_result"
    }
   ],
   "source": [
    "cv[:5]"
   ]
  },
  {
   "cell_type": "code",
   "execution_count": 98,
   "id": "1d04e142",
   "metadata": {},
   "outputs": [],
   "source": [
    "model2=joblib.load(r'C:\\Users\\lohit.ashwa\\Desktop\\New folder\\xgbc_model.pkl')"
   ]
  },
  {
   "cell_type": "code",
   "execution_count": 105,
   "id": "70e42ded",
   "metadata": {},
   "outputs": [],
   "source": [
    "prediction=model2.predict(cv[:5])"
   ]
  },
  {
   "cell_type": "code",
   "execution_count": 106,
   "id": "bbe5d7e2",
   "metadata": {},
   "outputs": [
    {
     "data": {
      "text/plain": [
       "array([0, 1, 1, 0, 1])"
      ]
     },
     "execution_count": 106,
     "metadata": {},
     "output_type": "execute_result"
    }
   ],
   "source": [
    "prediction"
   ]
  },
  {
   "cell_type": "code",
   "execution_count": 110,
   "id": "4a16a9e5",
   "metadata": {},
   "outputs": [
    {
     "name": "stdout",
     "output_type": "stream",
     "text": [
      "Positive\n"
     ]
    }
   ],
   "source": [
    "counts = Counter(prediction)\n",
    "if(counts[1]== counts[0]):\n",
    "    print(\"Neutral\")\n",
    "elif(counts[1]> counts[0]):\n",
    "    print(\"Positive\")\n",
    "else:\n",
    "    print(\"Negative\")\n"
   ]
  },
  {
   "cell_type": "code",
   "execution_count": null,
   "id": "b0bbffb4",
   "metadata": {},
   "outputs": [],
   "source": []
  }
 ],
 "metadata": {
  "kernelspec": {
   "display_name": "Python 3 (ipykernel)",
   "language": "python",
   "name": "python3"
  },
  "language_info": {
   "codemirror_mode": {
    "name": "ipython",
    "version": 3
   },
   "file_extension": ".py",
   "mimetype": "text/x-python",
   "name": "python",
   "nbconvert_exporter": "python",
   "pygments_lexer": "ipython3",
   "version": "3.11.4"
  }
 },
 "nbformat": 4,
 "nbformat_minor": 5
}
